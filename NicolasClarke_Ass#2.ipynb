{
 "cells": [
  {
   "cell_type": "markdown",
   "metadata": {},
   "source": [
    "## Q1"
   ]
  },
  {
   "cell_type": "code",
   "execution_count": 1,
   "metadata": {},
   "outputs": [],
   "source": [
    "import pandas as pd\n",
    "import seaborn as sn\n",
    "import matplotlib.pyplot as plt\n",
    "from sklearn.metrics import confusion_matrix\n",
    "from sklearn.metrics import precision_score, recall_score\n",
    "from sklearn.metrics import f1_score\n",
    "from sklearn.metrics import classification_report\n"
   ]
  },
  {
   "cell_type": "code",
   "execution_count": 2,
   "metadata": {},
   "outputs": [
    {
     "data": {
      "text/html": [
       "<div>\n",
       "<style scoped>\n",
       "    .dataframe tbody tr th:only-of-type {\n",
       "        vertical-align: middle;\n",
       "    }\n",
       "\n",
       "    .dataframe tbody tr th {\n",
       "        vertical-align: top;\n",
       "    }\n",
       "\n",
       "    .dataframe thead th {\n",
       "        text-align: right;\n",
       "    }\n",
       "</style>\n",
       "<table border=\"1\" class=\"dataframe\">\n",
       "  <thead>\n",
       "    <tr style=\"text-align: right;\">\n",
       "      <th></th>\n",
       "      <th>Review</th>\n",
       "    </tr>\n",
       "  </thead>\n",
       "  <tbody>\n",
       "    <tr>\n",
       "      <th>0</th>\n",
       "      <td>1,\"films adapted from comic books have had ple...</td>\n",
       "    </tr>\n",
       "    <tr>\n",
       "      <th>1</th>\n",
       "      <td>2,\"every now and then a movie comes along from...</td>\n",
       "    </tr>\n",
       "    <tr>\n",
       "      <th>2</th>\n",
       "      <td>3,\"you've got mail works alot better than it d...</td>\n",
       "    </tr>\n",
       "    <tr>\n",
       "      <th>3</th>\n",
       "      <td>4,\"  jaws   is a rare film that grabs your att...</td>\n",
       "    </tr>\n",
       "    <tr>\n",
       "      <th>4</th>\n",
       "      <td>5,\"moviemaking is a lot like being the general...</td>\n",
       "    </tr>\n",
       "  </tbody>\n",
       "</table>\n",
       "</div>"
      ],
      "text/plain": [
       "                                              Review\n",
       "0  1,\"films adapted from comic books have had ple...\n",
       "1  2,\"every now and then a movie comes along from...\n",
       "2  3,\"you've got mail works alot better than it d...\n",
       "3  4,\"  jaws   is a rare film that grabs your att...\n",
       "4  5,\"moviemaking is a lot like being the general..."
      ]
     },
     "execution_count": 2,
     "metadata": {},
     "output_type": "execute_result"
    }
   ],
   "source": [
    "df = pd.read_table(\"MovieReview-Sample.csv\",header = None, names = ['Review'])\n",
    "df.head()"
   ]
  },
  {
   "cell_type": "code",
   "execution_count": 3,
   "metadata": {},
   "outputs": [
    {
     "data": {
      "text/plain": [
       "'2,\"every now and then a movie comes along from a suspect studio , with every indication that it will be a stinker , and to everybody\\'s surprise ( perhaps even the studio ) the film becomes a critical darling . mtv films\\' _election , a high school comedy starring matthew broderick and reese witherspoon , is a current example . did anybody know this film existed a week before it opened ? the plot is deceptively simple . george washington carver high school is having student elections . tracy flick ( reese witherspoon ) is an over-achiever with her hand raised at nearly every question , way , way , high . mr .   m   ( matthew broderick ) , sick of the megalomaniac student , encourages paul , a popular-but-slow jock to run . and paul\\'s nihilistic sister jumps in the race as well , for personal reasons . the dark side of such sleeper success is that , because expectations were so low going in , the fact that this was quality stuff made the reviews even more enthusiastic than they have any right to be . you can\\'t help going in with the baggage of glowing reviews , which is in contrast to the negative baggage that the reviewers were likely to have . _election , a good film , does not live up to its hype . what makes _election_ so disappointing is that it contains significant plot details lifted directly from _rushmore_ , released a few months earlier . the similarities are staggering : tracy flick ( _election_ ) is the president of an extraordinary number of clubs , and is involved with the school play . max fischer ( _rushmore_ ) is the president of an extraordinary number of clubs , and is involved with the school play . the most significant tension of _election_ is the potential relationship between a teacher and his student . the most significant tension of _rushmore_ is the potential relationship between a teacher and his student . tracy flick is from a single parent home , which has contributed to her drive . max fischer is from a single parent home , which has contribu\",1'"
      ]
     },
     "execution_count": 3,
     "metadata": {},
     "output_type": "execute_result"
    }
   ],
   "source": [
    "df['Review'][1]"
   ]
  },
  {
   "cell_type": "code",
   "execution_count": 4,
   "metadata": {},
   "outputs": [
    {
     "data": {
      "text/html": [
       "<div>\n",
       "<style scoped>\n",
       "    .dataframe tbody tr th:only-of-type {\n",
       "        vertical-align: middle;\n",
       "    }\n",
       "\n",
       "    .dataframe tbody tr th {\n",
       "        vertical-align: top;\n",
       "    }\n",
       "\n",
       "    .dataframe thead th {\n",
       "        text-align: right;\n",
       "    }\n",
       "</style>\n",
       "<table border=\"1\" class=\"dataframe\">\n",
       "  <thead>\n",
       "    <tr style=\"text-align: right;\">\n",
       "      <th></th>\n",
       "      <th>Review</th>\n",
       "    </tr>\n",
       "  </thead>\n",
       "  <tbody>\n",
       "    <tr>\n",
       "      <th>0</th>\n",
       "      <td>1,\"films adapted from comic books have had ple...</td>\n",
       "    </tr>\n",
       "    <tr>\n",
       "      <th>1</th>\n",
       "      <td>2,\"every now and then a movie comes along from...</td>\n",
       "    </tr>\n",
       "    <tr>\n",
       "      <th>2</th>\n",
       "      <td>3,\"you've got mail works alot better than it d...</td>\n",
       "    </tr>\n",
       "    <tr>\n",
       "      <th>3</th>\n",
       "      <td>4,\"  jaws   is a rare film that grabs your att...</td>\n",
       "    </tr>\n",
       "    <tr>\n",
       "      <th>4</th>\n",
       "      <td>5,\"moviemaking is a lot like being the general...</td>\n",
       "    </tr>\n",
       "    <tr>\n",
       "      <th>...</th>\n",
       "      <td>...</td>\n",
       "    </tr>\n",
       "    <tr>\n",
       "      <th>1995</th>\n",
       "      <td>1996,\"if anything ,   stigmata   should be tak...</td>\n",
       "    </tr>\n",
       "    <tr>\n",
       "      <th>1996</th>\n",
       "      <td>1997,\"john boorman's   zardoz   is a goofy cin...</td>\n",
       "    </tr>\n",
       "    <tr>\n",
       "      <th>1997</th>\n",
       "      <td>1998,\"the kids in the hall are an acquired tas...</td>\n",
       "    </tr>\n",
       "    <tr>\n",
       "      <th>1998</th>\n",
       "      <td>1999,\"there was a time when john carpenter was...</td>\n",
       "    </tr>\n",
       "    <tr>\n",
       "      <th>1999</th>\n",
       "      <td>2000,\"two party guys bob their heads to haddaw...</td>\n",
       "    </tr>\n",
       "  </tbody>\n",
       "</table>\n",
       "<p>2000 rows × 1 columns</p>\n",
       "</div>"
      ],
      "text/plain": [
       "                                                 Review\n",
       "0     1,\"films adapted from comic books have had ple...\n",
       "1     2,\"every now and then a movie comes along from...\n",
       "2     3,\"you've got mail works alot better than it d...\n",
       "3     4,\"  jaws   is a rare film that grabs your att...\n",
       "4     5,\"moviemaking is a lot like being the general...\n",
       "...                                                 ...\n",
       "1995  1996,\"if anything ,   stigmata   should be tak...\n",
       "1996  1997,\"john boorman's   zardoz   is a goofy cin...\n",
       "1997  1998,\"the kids in the hall are an acquired tas...\n",
       "1998  1999,\"there was a time when john carpenter was...\n",
       "1999  2000,\"two party guys bob their heads to haddaw...\n",
       "\n",
       "[2000 rows x 1 columns]"
      ]
     },
     "execution_count": 4,
     "metadata": {},
     "output_type": "execute_result"
    }
   ],
   "source": [
    "df"
   ]
  },
  {
   "cell_type": "code",
   "execution_count": 5,
   "metadata": {},
   "outputs": [
    {
     "data": {
      "text/plain": [
       "Review    object\n",
       "dtype: object"
      ]
     },
     "execution_count": 5,
     "metadata": {},
     "output_type": "execute_result"
    }
   ],
   "source": [
    "df.dtypes"
   ]
  },
  {
   "cell_type": "code",
   "execution_count": 6,
   "metadata": {},
   "outputs": [],
   "source": [
    "data = df.Review.str.lower()"
   ]
  },
  {
   "cell_type": "code",
   "execution_count": 7,
   "metadata": {},
   "outputs": [],
   "source": [
    "def count_pos_neg(data, positive_dict, negative_dict):\n",
    "# count of positive and negative words that appeared in each message\n",
    "# net count which is calculated by positive count subtracting negative count. \n",
    "    poscnt = []\n",
    "    negcnt = []\n",
    "    netcnt = []\n",
    "\n",
    "    for nrow in range(0,len(data)):\n",
    "        text = data[nrow]\n",
    "        \n",
    "        qa = 0\n",
    "        qb = 0\n",
    "\n",
    "        for word in positive_dict :\n",
    "            if (word in text) :\n",
    "                qa = qa + 1\n",
    "\n",
    "        for word in negative_dict :\n",
    "            if (word in text) :\n",
    "                qb = qb + 1\n",
    "\n",
    "        qc = qa - qb\n",
    "\n",
    "        poscnt.append(qa)\n",
    "        negcnt.append(qb)\n",
    "        netcnt.append(qc)\n",
    "\n",
    "    return (poscnt, negcnt, netcnt)"
   ]
  },
  {
   "cell_type": "markdown",
   "metadata": {},
   "source": [
    "## 1 - Bing Liu's Lexicon"
   ]
  },
  {
   "cell_type": "code",
   "execution_count": 8,
   "metadata": {},
   "outputs": [
    {
     "name": "stderr",
     "output_type": "stream",
     "text": [
      "[nltk_data] Downloading package opinion_lexicon to\n",
      "[nltk_data]     /Users/nicolasclarke/nltk_data...\n",
      "[nltk_data]   Package opinion_lexicon is already up-to-date!\n"
     ]
    },
    {
     "data": {
      "text/plain": [
       "True"
      ]
     },
     "execution_count": 8,
     "metadata": {},
     "output_type": "execute_result"
    }
   ],
   "source": [
    "import nltk\n",
    "nltk.download(\"opinion_lexicon\")"
   ]
  },
  {
   "cell_type": "code",
   "execution_count": 9,
   "metadata": {},
   "outputs": [],
   "source": [
    "from nltk.corpus import opinion_lexicon"
   ]
  },
  {
   "cell_type": "code",
   "execution_count": 10,
   "metadata": {},
   "outputs": [],
   "source": [
    "pos_list_BL=set(opinion_lexicon.positive())\n",
    "neg_list_BL=set(opinion_lexicon.negative())"
   ]
  },
  {
   "cell_type": "code",
   "execution_count": 11,
   "metadata": {},
   "outputs": [],
   "source": [
    "df['poscnt_BL'], df['negcnt_BL'], df['netcnt_BL'] = count_pos_neg(data, pos_list_BL, neg_list_BL)"
   ]
  },
  {
   "cell_type": "code",
   "execution_count": 12,
   "metadata": {},
   "outputs": [
    {
     "data": {
      "text/html": [
       "<div>\n",
       "<style scoped>\n",
       "    .dataframe tbody tr th:only-of-type {\n",
       "        vertical-align: middle;\n",
       "    }\n",
       "\n",
       "    .dataframe tbody tr th {\n",
       "        vertical-align: top;\n",
       "    }\n",
       "\n",
       "    .dataframe thead th {\n",
       "        text-align: right;\n",
       "    }\n",
       "</style>\n",
       "<table border=\"1\" class=\"dataframe\">\n",
       "  <thead>\n",
       "    <tr style=\"text-align: right;\">\n",
       "      <th></th>\n",
       "      <th>Review</th>\n",
       "      <th>poscnt_BL</th>\n",
       "      <th>negcnt_BL</th>\n",
       "      <th>netcnt_BL</th>\n",
       "    </tr>\n",
       "  </thead>\n",
       "  <tbody>\n",
       "    <tr>\n",
       "      <th>0</th>\n",
       "      <td>1,\"films adapted from comic books have had ple...</td>\n",
       "      <td>16</td>\n",
       "      <td>36</td>\n",
       "      <td>-20</td>\n",
       "    </tr>\n",
       "    <tr>\n",
       "      <th>1</th>\n",
       "      <td>2,\"every now and then a movie comes along from...</td>\n",
       "      <td>21</td>\n",
       "      <td>33</td>\n",
       "      <td>-12</td>\n",
       "    </tr>\n",
       "    <tr>\n",
       "      <th>2</th>\n",
       "      <td>3,\"you've got mail works alot better than it d...</td>\n",
       "      <td>32</td>\n",
       "      <td>28</td>\n",
       "      <td>4</td>\n",
       "    </tr>\n",
       "    <tr>\n",
       "      <th>3</th>\n",
       "      <td>4,\"  jaws   is a rare film that grabs your att...</td>\n",
       "      <td>20</td>\n",
       "      <td>41</td>\n",
       "      <td>-21</td>\n",
       "    </tr>\n",
       "    <tr>\n",
       "      <th>4</th>\n",
       "      <td>5,\"moviemaking is a lot like being the general...</td>\n",
       "      <td>17</td>\n",
       "      <td>24</td>\n",
       "      <td>-7</td>\n",
       "    </tr>\n",
       "  </tbody>\n",
       "</table>\n",
       "</div>"
      ],
      "text/plain": [
       "                                              Review  poscnt_BL  negcnt_BL  \\\n",
       "0  1,\"films adapted from comic books have had ple...         16         36   \n",
       "1  2,\"every now and then a movie comes along from...         21         33   \n",
       "2  3,\"you've got mail works alot better than it d...         32         28   \n",
       "3  4,\"  jaws   is a rare film that grabs your att...         20         41   \n",
       "4  5,\"moviemaking is a lot like being the general...         17         24   \n",
       "\n",
       "   netcnt_BL  \n",
       "0        -20  \n",
       "1        -12  \n",
       "2          4  \n",
       "3        -21  \n",
       "4         -7  "
      ]
     },
     "execution_count": 12,
     "metadata": {},
     "output_type": "execute_result"
    }
   ],
   "source": [
    "df[['Review','poscnt_BL','negcnt_BL','netcnt_BL']].head(5)"
   ]
  },
  {
   "cell_type": "code",
   "execution_count": 13,
   "metadata": {},
   "outputs": [
    {
     "data": {
      "text/html": [
       "<div>\n",
       "<style scoped>\n",
       "    .dataframe tbody tr th:only-of-type {\n",
       "        vertical-align: middle;\n",
       "    }\n",
       "\n",
       "    .dataframe tbody tr th {\n",
       "        vertical-align: top;\n",
       "    }\n",
       "\n",
       "    .dataframe thead th {\n",
       "        text-align: right;\n",
       "    }\n",
       "</style>\n",
       "<table border=\"1\" class=\"dataframe\">\n",
       "  <thead>\n",
       "    <tr style=\"text-align: right;\">\n",
       "      <th></th>\n",
       "      <th>0</th>\n",
       "      <th>1</th>\n",
       "      <th>2</th>\n",
       "    </tr>\n",
       "  </thead>\n",
       "  <tbody>\n",
       "    <tr>\n",
       "      <th>0</th>\n",
       "      <td>1</td>\n",
       "      <td>films adapted from comic books have had plenty...</td>\n",
       "      <td>1</td>\n",
       "    </tr>\n",
       "    <tr>\n",
       "      <th>1</th>\n",
       "      <td>2</td>\n",
       "      <td>every now and then a movie comes along from a ...</td>\n",
       "      <td>1</td>\n",
       "    </tr>\n",
       "    <tr>\n",
       "      <th>2</th>\n",
       "      <td>3</td>\n",
       "      <td>you've got mail works alot better than it dese...</td>\n",
       "      <td>1</td>\n",
       "    </tr>\n",
       "    <tr>\n",
       "      <th>3</th>\n",
       "      <td>4</td>\n",
       "      <td>jaws   is a rare film that grabs your attent...</td>\n",
       "      <td>1</td>\n",
       "    </tr>\n",
       "    <tr>\n",
       "      <th>4</th>\n",
       "      <td>5</td>\n",
       "      <td>moviemaking is a lot like being the general ma...</td>\n",
       "      <td>1</td>\n",
       "    </tr>\n",
       "  </tbody>\n",
       "</table>\n",
       "</div>"
      ],
      "text/plain": [
       "   0                                                  1  2\n",
       "0  1  films adapted from comic books have had plenty...  1\n",
       "1  2  every now and then a movie comes along from a ...  1\n",
       "2  3  you've got mail works alot better than it dese...  1\n",
       "3  4    jaws   is a rare film that grabs your attent...  1\n",
       "4  5  moviemaking is a lot like being the general ma...  1"
      ]
     },
     "execution_count": 13,
     "metadata": {},
     "output_type": "execute_result"
    }
   ],
   "source": [
    "dfnew = pd.read_csv(\"MovieReview-Sample.csv\",header = None)\n",
    "dfnew.head()"
   ]
  },
  {
   "cell_type": "code",
   "execution_count": 14,
   "metadata": {},
   "outputs": [],
   "source": [
    "df['Score'] = dfnew[2].astype(int)"
   ]
  },
  {
   "cell_type": "code",
   "execution_count": 15,
   "metadata": {},
   "outputs": [
    {
     "data": {
      "text/html": [
       "<div>\n",
       "<style scoped>\n",
       "    .dataframe tbody tr th:only-of-type {\n",
       "        vertical-align: middle;\n",
       "    }\n",
       "\n",
       "    .dataframe tbody tr th {\n",
       "        vertical-align: top;\n",
       "    }\n",
       "\n",
       "    .dataframe thead th {\n",
       "        text-align: right;\n",
       "    }\n",
       "</style>\n",
       "<table border=\"1\" class=\"dataframe\">\n",
       "  <thead>\n",
       "    <tr style=\"text-align: right;\">\n",
       "      <th></th>\n",
       "      <th>Review</th>\n",
       "      <th>poscnt_BL</th>\n",
       "      <th>negcnt_BL</th>\n",
       "      <th>netcnt_BL</th>\n",
       "      <th>Score</th>\n",
       "    </tr>\n",
       "  </thead>\n",
       "  <tbody>\n",
       "    <tr>\n",
       "      <th>0</th>\n",
       "      <td>1,\"films adapted from comic books have had ple...</td>\n",
       "      <td>16</td>\n",
       "      <td>36</td>\n",
       "      <td>-20</td>\n",
       "      <td>1</td>\n",
       "    </tr>\n",
       "    <tr>\n",
       "      <th>1</th>\n",
       "      <td>2,\"every now and then a movie comes along from...</td>\n",
       "      <td>21</td>\n",
       "      <td>33</td>\n",
       "      <td>-12</td>\n",
       "      <td>1</td>\n",
       "    </tr>\n",
       "    <tr>\n",
       "      <th>2</th>\n",
       "      <td>3,\"you've got mail works alot better than it d...</td>\n",
       "      <td>32</td>\n",
       "      <td>28</td>\n",
       "      <td>4</td>\n",
       "      <td>1</td>\n",
       "    </tr>\n",
       "    <tr>\n",
       "      <th>3</th>\n",
       "      <td>4,\"  jaws   is a rare film that grabs your att...</td>\n",
       "      <td>20</td>\n",
       "      <td>41</td>\n",
       "      <td>-21</td>\n",
       "      <td>1</td>\n",
       "    </tr>\n",
       "    <tr>\n",
       "      <th>4</th>\n",
       "      <td>5,\"moviemaking is a lot like being the general...</td>\n",
       "      <td>17</td>\n",
       "      <td>24</td>\n",
       "      <td>-7</td>\n",
       "      <td>1</td>\n",
       "    </tr>\n",
       "    <tr>\n",
       "      <th>...</th>\n",
       "      <td>...</td>\n",
       "      <td>...</td>\n",
       "      <td>...</td>\n",
       "      <td>...</td>\n",
       "      <td>...</td>\n",
       "    </tr>\n",
       "    <tr>\n",
       "      <th>1995</th>\n",
       "      <td>1996,\"if anything ,   stigmata   should be tak...</td>\n",
       "      <td>14</td>\n",
       "      <td>41</td>\n",
       "      <td>-27</td>\n",
       "      <td>0</td>\n",
       "    </tr>\n",
       "    <tr>\n",
       "      <th>1996</th>\n",
       "      <td>1997,\"john boorman's   zardoz   is a goofy cin...</td>\n",
       "      <td>28</td>\n",
       "      <td>36</td>\n",
       "      <td>-8</td>\n",
       "      <td>0</td>\n",
       "    </tr>\n",
       "    <tr>\n",
       "      <th>1997</th>\n",
       "      <td>1998,\"the kids in the hall are an acquired tas...</td>\n",
       "      <td>19</td>\n",
       "      <td>21</td>\n",
       "      <td>-2</td>\n",
       "      <td>0</td>\n",
       "    </tr>\n",
       "    <tr>\n",
       "      <th>1998</th>\n",
       "      <td>1999,\"there was a time when john carpenter was...</td>\n",
       "      <td>19</td>\n",
       "      <td>37</td>\n",
       "      <td>-18</td>\n",
       "      <td>0</td>\n",
       "    </tr>\n",
       "    <tr>\n",
       "      <th>1999</th>\n",
       "      <td>2000,\"two party guys bob their heads to haddaw...</td>\n",
       "      <td>15</td>\n",
       "      <td>37</td>\n",
       "      <td>-22</td>\n",
       "      <td>0</td>\n",
       "    </tr>\n",
       "  </tbody>\n",
       "</table>\n",
       "<p>2000 rows × 5 columns</p>\n",
       "</div>"
      ],
      "text/plain": [
       "                                                 Review  poscnt_BL  negcnt_BL  \\\n",
       "0     1,\"films adapted from comic books have had ple...         16         36   \n",
       "1     2,\"every now and then a movie comes along from...         21         33   \n",
       "2     3,\"you've got mail works alot better than it d...         32         28   \n",
       "3     4,\"  jaws   is a rare film that grabs your att...         20         41   \n",
       "4     5,\"moviemaking is a lot like being the general...         17         24   \n",
       "...                                                 ...        ...        ...   \n",
       "1995  1996,\"if anything ,   stigmata   should be tak...         14         41   \n",
       "1996  1997,\"john boorman's   zardoz   is a goofy cin...         28         36   \n",
       "1997  1998,\"the kids in the hall are an acquired tas...         19         21   \n",
       "1998  1999,\"there was a time when john carpenter was...         19         37   \n",
       "1999  2000,\"two party guys bob their heads to haddaw...         15         37   \n",
       "\n",
       "      netcnt_BL  Score  \n",
       "0           -20      1  \n",
       "1           -12      1  \n",
       "2             4      1  \n",
       "3           -21      1  \n",
       "4            -7      1  \n",
       "...         ...    ...  \n",
       "1995        -27      0  \n",
       "1996         -8      0  \n",
       "1997         -2      0  \n",
       "1998        -18      0  \n",
       "1999        -22      0  \n",
       "\n",
       "[2000 rows x 5 columns]"
      ]
     },
     "execution_count": 15,
     "metadata": {},
     "output_type": "execute_result"
    }
   ],
   "source": [
    "df"
   ]
  },
  {
   "cell_type": "code",
   "execution_count": 16,
   "metadata": {},
   "outputs": [],
   "source": [
    "df.loc[df['netcnt_BL'] >= 0, 'predictBL'] = 1\n",
    "df.loc[df['netcnt_BL'] < 0, 'predictBL'] = 0\n",
    "df['predictBL'] = df['predictBL'].astype('int')"
   ]
  },
  {
   "cell_type": "code",
   "execution_count": 17,
   "metadata": {},
   "outputs": [
    {
     "data": {
      "text/html": [
       "<div>\n",
       "<style scoped>\n",
       "    .dataframe tbody tr th:only-of-type {\n",
       "        vertical-align: middle;\n",
       "    }\n",
       "\n",
       "    .dataframe tbody tr th {\n",
       "        vertical-align: top;\n",
       "    }\n",
       "\n",
       "    .dataframe thead th {\n",
       "        text-align: right;\n",
       "    }\n",
       "</style>\n",
       "<table border=\"1\" class=\"dataframe\">\n",
       "  <thead>\n",
       "    <tr style=\"text-align: right;\">\n",
       "      <th></th>\n",
       "      <th>Review</th>\n",
       "      <th>poscnt_BL</th>\n",
       "      <th>negcnt_BL</th>\n",
       "      <th>netcnt_BL</th>\n",
       "      <th>Score</th>\n",
       "      <th>predictBL</th>\n",
       "    </tr>\n",
       "  </thead>\n",
       "  <tbody>\n",
       "    <tr>\n",
       "      <th>0</th>\n",
       "      <td>1,\"films adapted from comic books have had ple...</td>\n",
       "      <td>16</td>\n",
       "      <td>36</td>\n",
       "      <td>-20</td>\n",
       "      <td>1</td>\n",
       "      <td>0</td>\n",
       "    </tr>\n",
       "    <tr>\n",
       "      <th>1</th>\n",
       "      <td>2,\"every now and then a movie comes along from...</td>\n",
       "      <td>21</td>\n",
       "      <td>33</td>\n",
       "      <td>-12</td>\n",
       "      <td>1</td>\n",
       "      <td>0</td>\n",
       "    </tr>\n",
       "    <tr>\n",
       "      <th>2</th>\n",
       "      <td>3,\"you've got mail works alot better than it d...</td>\n",
       "      <td>32</td>\n",
       "      <td>28</td>\n",
       "      <td>4</td>\n",
       "      <td>1</td>\n",
       "      <td>1</td>\n",
       "    </tr>\n",
       "    <tr>\n",
       "      <th>3</th>\n",
       "      <td>4,\"  jaws   is a rare film that grabs your att...</td>\n",
       "      <td>20</td>\n",
       "      <td>41</td>\n",
       "      <td>-21</td>\n",
       "      <td>1</td>\n",
       "      <td>0</td>\n",
       "    </tr>\n",
       "    <tr>\n",
       "      <th>4</th>\n",
       "      <td>5,\"moviemaking is a lot like being the general...</td>\n",
       "      <td>17</td>\n",
       "      <td>24</td>\n",
       "      <td>-7</td>\n",
       "      <td>1</td>\n",
       "      <td>0</td>\n",
       "    </tr>\n",
       "  </tbody>\n",
       "</table>\n",
       "</div>"
      ],
      "text/plain": [
       "                                              Review  poscnt_BL  negcnt_BL  \\\n",
       "0  1,\"films adapted from comic books have had ple...         16         36   \n",
       "1  2,\"every now and then a movie comes along from...         21         33   \n",
       "2  3,\"you've got mail works alot better than it d...         32         28   \n",
       "3  4,\"  jaws   is a rare film that grabs your att...         20         41   \n",
       "4  5,\"moviemaking is a lot like being the general...         17         24   \n",
       "\n",
       "   netcnt_BL  Score  predictBL  \n",
       "0        -20      1          0  \n",
       "1        -12      1          0  \n",
       "2          4      1          1  \n",
       "3        -21      1          0  \n",
       "4         -7      1          0  "
      ]
     },
     "execution_count": 17,
     "metadata": {},
     "output_type": "execute_result"
    }
   ],
   "source": [
    "df.head()"
   ]
  },
  {
   "cell_type": "code",
   "execution_count": 18,
   "metadata": {
    "scrolled": true
   },
   "outputs": [
    {
     "name": "stdout",
     "output_type": "stream",
     "text": [
      "Predicted    0    1\n",
      "Actual             \n",
      "0          955   45\n",
      "1          842  158\n"
     ]
    }
   ],
   "source": [
    "confusion_matrix = pd.crosstab(df['Score'], df['predictBL'], rownames=['Actual'], colnames=['Predicted'])\n",
    "print (confusion_matrix)"
   ]
  },
  {
   "cell_type": "code",
   "execution_count": 19,
   "metadata": {},
   "outputs": [],
   "source": [
    "PrecisionBL = precision_score(df['Score'], df['predictBL'])\n",
    "RecallBL = recall_score(df['Score'], df['predictBL'])\n",
    "F1BL = f1_score(df['Score'], df['predictBL'])"
   ]
  },
  {
   "cell_type": "code",
   "execution_count": 20,
   "metadata": {
    "scrolled": true
   },
   "outputs": [
    {
     "name": "stdout",
     "output_type": "stream",
     "text": [
      "Precision BL =  0.778\n",
      "Recall BL =  0.158\n",
      "F1 BL =  0.263\n"
     ]
    }
   ],
   "source": [
    "print('Precision BL = ', round(PrecisionBL,3) )\n",
    "print('Recall BL = ', round(RecallBL,3) )\n",
    "print('F1 BL = ', round(F1BL,3) )"
   ]
  },
  {
   "cell_type": "code",
   "execution_count": 24,
   "metadata": {},
   "outputs": [
    {
     "name": "stdout",
     "output_type": "stream",
     "text": [
      "              precision    recall  f1-score   support\n",
      "\n",
      "           0       0.53      0.95      0.68      1000\n",
      "           1       0.78      0.16      0.26      1000\n",
      "\n",
      "    accuracy                           0.56      2000\n",
      "   macro avg       0.65      0.56      0.47      2000\n",
      "weighted avg       0.65      0.56      0.47      2000\n",
      "\n"
     ]
    }
   ],
   "source": [
    "print(classification_report(df['Score'], df['predictBL']))\n"
   ]
  },
  {
   "cell_type": "markdown",
   "metadata": {},
   "source": [
    "## 2 - LM Dictionary"
   ]
  },
  {
   "cell_type": "code",
   "execution_count": 25,
   "metadata": {},
   "outputs": [],
   "source": [
    "def read_local_dictionary(file):\n",
    "    # create dictionary list\n",
    "    words_dict = []\n",
    "    with open(file, \"r\") as f: \n",
    "        for line in f:\n",
    "            t = line.strip().lower()\n",
    "            words_dict.append(t)\n",
    "    return words_dict"
   ]
  },
  {
   "cell_type": "code",
   "execution_count": 26,
   "metadata": {},
   "outputs": [],
   "source": [
    "pos_list_LM = read_local_dictionary('positive-words-LM.txt')\n",
    "neg_list_LM = read_local_dictionary('negative-words-LM.txt')"
   ]
  },
  {
   "cell_type": "code",
   "execution_count": 27,
   "metadata": {},
   "outputs": [],
   "source": [
    "df['poscnt_LM'], df['negcnt_LM'], df['netcnt_LM'] = count_pos_neg(data, pos_list_LM, neg_list_LM)"
   ]
  },
  {
   "cell_type": "code",
   "execution_count": 28,
   "metadata": {},
   "outputs": [
    {
     "data": {
      "text/html": [
       "<div>\n",
       "<style scoped>\n",
       "    .dataframe tbody tr th:only-of-type {\n",
       "        vertical-align: middle;\n",
       "    }\n",
       "\n",
       "    .dataframe tbody tr th {\n",
       "        vertical-align: top;\n",
       "    }\n",
       "\n",
       "    .dataframe thead th {\n",
       "        text-align: right;\n",
       "    }\n",
       "</style>\n",
       "<table border=\"1\" class=\"dataframe\">\n",
       "  <thead>\n",
       "    <tr style=\"text-align: right;\">\n",
       "      <th></th>\n",
       "      <th>Review</th>\n",
       "      <th>poscnt_LM</th>\n",
       "      <th>negcnt_LM</th>\n",
       "      <th>netcnt_LM</th>\n",
       "    </tr>\n",
       "  </thead>\n",
       "  <tbody>\n",
       "    <tr>\n",
       "      <th>0</th>\n",
       "      <td>1,\"films adapted from comic books have had ple...</td>\n",
       "      <td>5</td>\n",
       "      <td>11</td>\n",
       "      <td>-6</td>\n",
       "    </tr>\n",
       "    <tr>\n",
       "      <th>1</th>\n",
       "      <td>2,\"every now and then a movie comes along from...</td>\n",
       "      <td>7</td>\n",
       "      <td>12</td>\n",
       "      <td>-5</td>\n",
       "    </tr>\n",
       "    <tr>\n",
       "      <th>2</th>\n",
       "      <td>3,\"you've got mail works alot better than it d...</td>\n",
       "      <td>12</td>\n",
       "      <td>7</td>\n",
       "      <td>5</td>\n",
       "    </tr>\n",
       "    <tr>\n",
       "      <th>3</th>\n",
       "      <td>4,\"  jaws   is a rare film that grabs your att...</td>\n",
       "      <td>5</td>\n",
       "      <td>14</td>\n",
       "      <td>-9</td>\n",
       "    </tr>\n",
       "    <tr>\n",
       "      <th>4</th>\n",
       "      <td>5,\"moviemaking is a lot like being the general...</td>\n",
       "      <td>1</td>\n",
       "      <td>6</td>\n",
       "      <td>-5</td>\n",
       "    </tr>\n",
       "  </tbody>\n",
       "</table>\n",
       "</div>"
      ],
      "text/plain": [
       "                                              Review  poscnt_LM  negcnt_LM  \\\n",
       "0  1,\"films adapted from comic books have had ple...          5         11   \n",
       "1  2,\"every now and then a movie comes along from...          7         12   \n",
       "2  3,\"you've got mail works alot better than it d...         12          7   \n",
       "3  4,\"  jaws   is a rare film that grabs your att...          5         14   \n",
       "4  5,\"moviemaking is a lot like being the general...          1          6   \n",
       "\n",
       "   netcnt_LM  \n",
       "0         -6  \n",
       "1         -5  \n",
       "2          5  \n",
       "3         -9  \n",
       "4         -5  "
      ]
     },
     "execution_count": 28,
     "metadata": {},
     "output_type": "execute_result"
    }
   ],
   "source": [
    "df[['Review','poscnt_LM','negcnt_LM','netcnt_LM']].head(5)"
   ]
  },
  {
   "cell_type": "code",
   "execution_count": 29,
   "metadata": {},
   "outputs": [],
   "source": [
    "dfnew = pd.read_csv(\"MovieReview-Sample.csv\",header = None)"
   ]
  },
  {
   "cell_type": "code",
   "execution_count": 30,
   "metadata": {},
   "outputs": [],
   "source": [
    "df['Score'] = dfnew[2].astype(int)"
   ]
  },
  {
   "cell_type": "code",
   "execution_count": 31,
   "metadata": {},
   "outputs": [
    {
     "data": {
      "text/html": [
       "<div>\n",
       "<style scoped>\n",
       "    .dataframe tbody tr th:only-of-type {\n",
       "        vertical-align: middle;\n",
       "    }\n",
       "\n",
       "    .dataframe tbody tr th {\n",
       "        vertical-align: top;\n",
       "    }\n",
       "\n",
       "    .dataframe thead th {\n",
       "        text-align: right;\n",
       "    }\n",
       "</style>\n",
       "<table border=\"1\" class=\"dataframe\">\n",
       "  <thead>\n",
       "    <tr style=\"text-align: right;\">\n",
       "      <th></th>\n",
       "      <th>Review</th>\n",
       "      <th>poscnt_BL</th>\n",
       "      <th>negcnt_BL</th>\n",
       "      <th>netcnt_BL</th>\n",
       "      <th>Score</th>\n",
       "      <th>predictBL</th>\n",
       "      <th>poscnt_LM</th>\n",
       "      <th>negcnt_LM</th>\n",
       "      <th>netcnt_LM</th>\n",
       "    </tr>\n",
       "  </thead>\n",
       "  <tbody>\n",
       "    <tr>\n",
       "      <th>0</th>\n",
       "      <td>1,\"films adapted from comic books have had ple...</td>\n",
       "      <td>16</td>\n",
       "      <td>36</td>\n",
       "      <td>-20</td>\n",
       "      <td>1</td>\n",
       "      <td>0</td>\n",
       "      <td>5</td>\n",
       "      <td>11</td>\n",
       "      <td>-6</td>\n",
       "    </tr>\n",
       "    <tr>\n",
       "      <th>1</th>\n",
       "      <td>2,\"every now and then a movie comes along from...</td>\n",
       "      <td>21</td>\n",
       "      <td>33</td>\n",
       "      <td>-12</td>\n",
       "      <td>1</td>\n",
       "      <td>0</td>\n",
       "      <td>7</td>\n",
       "      <td>12</td>\n",
       "      <td>-5</td>\n",
       "    </tr>\n",
       "    <tr>\n",
       "      <th>2</th>\n",
       "      <td>3,\"you've got mail works alot better than it d...</td>\n",
       "      <td>32</td>\n",
       "      <td>28</td>\n",
       "      <td>4</td>\n",
       "      <td>1</td>\n",
       "      <td>1</td>\n",
       "      <td>12</td>\n",
       "      <td>7</td>\n",
       "      <td>5</td>\n",
       "    </tr>\n",
       "    <tr>\n",
       "      <th>3</th>\n",
       "      <td>4,\"  jaws   is a rare film that grabs your att...</td>\n",
       "      <td>20</td>\n",
       "      <td>41</td>\n",
       "      <td>-21</td>\n",
       "      <td>1</td>\n",
       "      <td>0</td>\n",
       "      <td>5</td>\n",
       "      <td>14</td>\n",
       "      <td>-9</td>\n",
       "    </tr>\n",
       "    <tr>\n",
       "      <th>4</th>\n",
       "      <td>5,\"moviemaking is a lot like being the general...</td>\n",
       "      <td>17</td>\n",
       "      <td>24</td>\n",
       "      <td>-7</td>\n",
       "      <td>1</td>\n",
       "      <td>0</td>\n",
       "      <td>1</td>\n",
       "      <td>6</td>\n",
       "      <td>-5</td>\n",
       "    </tr>\n",
       "  </tbody>\n",
       "</table>\n",
       "</div>"
      ],
      "text/plain": [
       "                                              Review  poscnt_BL  negcnt_BL  \\\n",
       "0  1,\"films adapted from comic books have had ple...         16         36   \n",
       "1  2,\"every now and then a movie comes along from...         21         33   \n",
       "2  3,\"you've got mail works alot better than it d...         32         28   \n",
       "3  4,\"  jaws   is a rare film that grabs your att...         20         41   \n",
       "4  5,\"moviemaking is a lot like being the general...         17         24   \n",
       "\n",
       "   netcnt_BL  Score  predictBL  poscnt_LM  negcnt_LM  netcnt_LM  \n",
       "0        -20      1          0          5         11         -6  \n",
       "1        -12      1          0          7         12         -5  \n",
       "2          4      1          1         12          7          5  \n",
       "3        -21      1          0          5         14         -9  \n",
       "4         -7      1          0          1          6         -5  "
      ]
     },
     "execution_count": 31,
     "metadata": {},
     "output_type": "execute_result"
    }
   ],
   "source": [
    "df.head()"
   ]
  },
  {
   "cell_type": "code",
   "execution_count": 32,
   "metadata": {},
   "outputs": [],
   "source": [
    "df.loc[df['netcnt_LM'] >= 0, 'predictLM'] = 1\n",
    "df.loc[df['netcnt_LM'] < 0, 'predictLM'] = 0\n",
    "df['predictLM'] = df['predictLM'].astype('int')"
   ]
  },
  {
   "cell_type": "code",
   "execution_count": 33,
   "metadata": {},
   "outputs": [
    {
     "name": "stdout",
     "output_type": "stream",
     "text": [
      "Predicted    0    1\n",
      "Actual             \n",
      "0          897  103\n",
      "1          786  214\n"
     ]
    }
   ],
   "source": [
    "confusion_matrix = pd.crosstab(df['Score'], df['predictLM'], rownames=['Actual'], colnames=['Predicted'])\n",
    "print (confusion_matrix)"
   ]
  },
  {
   "cell_type": "code",
   "execution_count": 34,
   "metadata": {},
   "outputs": [],
   "source": [
    "PrecisionLM = precision_score(df['Score'], df['predictLM'])\n",
    "RecallLM = recall_score(df['Score'], df['predictLM'])\n",
    "F1LM = f1_score(df['Score'], df['predictLM'])"
   ]
  },
  {
   "cell_type": "code",
   "execution_count": 35,
   "metadata": {},
   "outputs": [
    {
     "name": "stdout",
     "output_type": "stream",
     "text": [
      "Precision LM =  0.675\n",
      "Recall LM =  0.214\n",
      "F1 LM =  0.325\n"
     ]
    }
   ],
   "source": [
    "print('Precision LM = ', round(PrecisionLM,3) )\n",
    "print('Recall LM = ', RecallLM )\n",
    "print('F1 LM = ', round(F1LM,3) )"
   ]
  },
  {
   "cell_type": "code",
   "execution_count": 36,
   "metadata": {},
   "outputs": [
    {
     "name": "stdout",
     "output_type": "stream",
     "text": [
      "              precision    recall  f1-score   support\n",
      "\n",
      "           0       0.53      0.90      0.67      1000\n",
      "           1       0.68      0.21      0.32      1000\n",
      "\n",
      "    accuracy                           0.56      2000\n",
      "   macro avg       0.60      0.56      0.50      2000\n",
      "weighted avg       0.60      0.56      0.50      2000\n",
      "\n"
     ]
    }
   ],
   "source": [
    "print(classification_report(df['Score'], df['predictLM']))"
   ]
  },
  {
   "cell_type": "markdown",
   "metadata": {},
   "source": [
    "## 3 - TextBlob"
   ]
  },
  {
   "cell_type": "code",
   "execution_count": 37,
   "metadata": {},
   "outputs": [],
   "source": [
    "from textblob import TextBlob"
   ]
  },
  {
   "cell_type": "code",
   "execution_count": 38,
   "metadata": {},
   "outputs": [],
   "source": [
    "df[\"score_TextBlob\"] = df[\"Review\"].map(lambda x:TextBlob(x).sentiment.polarity)\n"
   ]
  },
  {
   "cell_type": "code",
   "execution_count": 39,
   "metadata": {},
   "outputs": [
    {
     "data": {
      "text/html": [
       "<div>\n",
       "<style scoped>\n",
       "    .dataframe tbody tr th:only-of-type {\n",
       "        vertical-align: middle;\n",
       "    }\n",
       "\n",
       "    .dataframe tbody tr th {\n",
       "        vertical-align: top;\n",
       "    }\n",
       "\n",
       "    .dataframe thead th {\n",
       "        text-align: right;\n",
       "    }\n",
       "</style>\n",
       "<table border=\"1\" class=\"dataframe\">\n",
       "  <thead>\n",
       "    <tr style=\"text-align: right;\">\n",
       "      <th></th>\n",
       "      <th>Review</th>\n",
       "      <th>score_TextBlob</th>\n",
       "    </tr>\n",
       "  </thead>\n",
       "  <tbody>\n",
       "    <tr>\n",
       "      <th>0</th>\n",
       "      <td>1,\"films adapted from comic books have had ple...</td>\n",
       "      <td>-0.061036</td>\n",
       "    </tr>\n",
       "    <tr>\n",
       "      <th>1</th>\n",
       "      <td>2,\"every now and then a movie comes along from...</td>\n",
       "      <td>0.088390</td>\n",
       "    </tr>\n",
       "    <tr>\n",
       "      <th>2</th>\n",
       "      <td>3,\"you've got mail works alot better than it d...</td>\n",
       "      <td>0.081941</td>\n",
       "    </tr>\n",
       "    <tr>\n",
       "      <th>3</th>\n",
       "      <td>4,\"  jaws   is a rare film that grabs your att...</td>\n",
       "      <td>0.066679</td>\n",
       "    </tr>\n",
       "    <tr>\n",
       "      <th>4</th>\n",
       "      <td>5,\"moviemaking is a lot like being the general...</td>\n",
       "      <td>0.054987</td>\n",
       "    </tr>\n",
       "    <tr>\n",
       "      <th>...</th>\n",
       "      <td>...</td>\n",
       "      <td>...</td>\n",
       "    </tr>\n",
       "    <tr>\n",
       "      <th>1995</th>\n",
       "      <td>1996,\"if anything ,   stigmata   should be tak...</td>\n",
       "      <td>-0.099168</td>\n",
       "    </tr>\n",
       "    <tr>\n",
       "      <th>1996</th>\n",
       "      <td>1997,\"john boorman's   zardoz   is a goofy cin...</td>\n",
       "      <td>0.008737</td>\n",
       "    </tr>\n",
       "    <tr>\n",
       "      <th>1997</th>\n",
       "      <td>1998,\"the kids in the hall are an acquired tas...</td>\n",
       "      <td>0.168962</td>\n",
       "    </tr>\n",
       "    <tr>\n",
       "      <th>1998</th>\n",
       "      <td>1999,\"there was a time when john carpenter was...</td>\n",
       "      <td>0.097989</td>\n",
       "    </tr>\n",
       "    <tr>\n",
       "      <th>1999</th>\n",
       "      <td>2000,\"two party guys bob their heads to haddaw...</td>\n",
       "      <td>0.065732</td>\n",
       "    </tr>\n",
       "  </tbody>\n",
       "</table>\n",
       "<p>2000 rows × 2 columns</p>\n",
       "</div>"
      ],
      "text/plain": [
       "                                                 Review  score_TextBlob\n",
       "0     1,\"films adapted from comic books have had ple...       -0.061036\n",
       "1     2,\"every now and then a movie comes along from...        0.088390\n",
       "2     3,\"you've got mail works alot better than it d...        0.081941\n",
       "3     4,\"  jaws   is a rare film that grabs your att...        0.066679\n",
       "4     5,\"moviemaking is a lot like being the general...        0.054987\n",
       "...                                                 ...             ...\n",
       "1995  1996,\"if anything ,   stigmata   should be tak...       -0.099168\n",
       "1996  1997,\"john boorman's   zardoz   is a goofy cin...        0.008737\n",
       "1997  1998,\"the kids in the hall are an acquired tas...        0.168962\n",
       "1998  1999,\"there was a time when john carpenter was...        0.097989\n",
       "1999  2000,\"two party guys bob their heads to haddaw...        0.065732\n",
       "\n",
       "[2000 rows x 2 columns]"
      ]
     },
     "execution_count": 39,
     "metadata": {},
     "output_type": "execute_result"
    }
   ],
   "source": [
    "df[[\"Review\",\"score_TextBlob\"]]"
   ]
  },
  {
   "cell_type": "code",
   "execution_count": 40,
   "metadata": {},
   "outputs": [],
   "source": [
    "dfnew = pd.read_csv(\"MovieReview-Sample.csv\",header = None)"
   ]
  },
  {
   "cell_type": "code",
   "execution_count": 41,
   "metadata": {},
   "outputs": [],
   "source": [
    "df['Score'] = dfnew[2].astype(int)"
   ]
  },
  {
   "cell_type": "code",
   "execution_count": 42,
   "metadata": {},
   "outputs": [
    {
     "data": {
      "text/html": [
       "<div>\n",
       "<style scoped>\n",
       "    .dataframe tbody tr th:only-of-type {\n",
       "        vertical-align: middle;\n",
       "    }\n",
       "\n",
       "    .dataframe tbody tr th {\n",
       "        vertical-align: top;\n",
       "    }\n",
       "\n",
       "    .dataframe thead th {\n",
       "        text-align: right;\n",
       "    }\n",
       "</style>\n",
       "<table border=\"1\" class=\"dataframe\">\n",
       "  <thead>\n",
       "    <tr style=\"text-align: right;\">\n",
       "      <th></th>\n",
       "      <th>Review</th>\n",
       "      <th>poscnt_BL</th>\n",
       "      <th>negcnt_BL</th>\n",
       "      <th>netcnt_BL</th>\n",
       "      <th>Score</th>\n",
       "      <th>predictBL</th>\n",
       "      <th>poscnt_LM</th>\n",
       "      <th>negcnt_LM</th>\n",
       "      <th>netcnt_LM</th>\n",
       "      <th>predictLM</th>\n",
       "      <th>score_TextBlob</th>\n",
       "    </tr>\n",
       "  </thead>\n",
       "  <tbody>\n",
       "    <tr>\n",
       "      <th>0</th>\n",
       "      <td>1,\"films adapted from comic books have had ple...</td>\n",
       "      <td>16</td>\n",
       "      <td>36</td>\n",
       "      <td>-20</td>\n",
       "      <td>1</td>\n",
       "      <td>0</td>\n",
       "      <td>5</td>\n",
       "      <td>11</td>\n",
       "      <td>-6</td>\n",
       "      <td>0</td>\n",
       "      <td>-0.061036</td>\n",
       "    </tr>\n",
       "    <tr>\n",
       "      <th>1</th>\n",
       "      <td>2,\"every now and then a movie comes along from...</td>\n",
       "      <td>21</td>\n",
       "      <td>33</td>\n",
       "      <td>-12</td>\n",
       "      <td>1</td>\n",
       "      <td>0</td>\n",
       "      <td>7</td>\n",
       "      <td>12</td>\n",
       "      <td>-5</td>\n",
       "      <td>0</td>\n",
       "      <td>0.088390</td>\n",
       "    </tr>\n",
       "    <tr>\n",
       "      <th>2</th>\n",
       "      <td>3,\"you've got mail works alot better than it d...</td>\n",
       "      <td>32</td>\n",
       "      <td>28</td>\n",
       "      <td>4</td>\n",
       "      <td>1</td>\n",
       "      <td>1</td>\n",
       "      <td>12</td>\n",
       "      <td>7</td>\n",
       "      <td>5</td>\n",
       "      <td>1</td>\n",
       "      <td>0.081941</td>\n",
       "    </tr>\n",
       "    <tr>\n",
       "      <th>3</th>\n",
       "      <td>4,\"  jaws   is a rare film that grabs your att...</td>\n",
       "      <td>20</td>\n",
       "      <td>41</td>\n",
       "      <td>-21</td>\n",
       "      <td>1</td>\n",
       "      <td>0</td>\n",
       "      <td>5</td>\n",
       "      <td>14</td>\n",
       "      <td>-9</td>\n",
       "      <td>0</td>\n",
       "      <td>0.066679</td>\n",
       "    </tr>\n",
       "    <tr>\n",
       "      <th>4</th>\n",
       "      <td>5,\"moviemaking is a lot like being the general...</td>\n",
       "      <td>17</td>\n",
       "      <td>24</td>\n",
       "      <td>-7</td>\n",
       "      <td>1</td>\n",
       "      <td>0</td>\n",
       "      <td>1</td>\n",
       "      <td>6</td>\n",
       "      <td>-5</td>\n",
       "      <td>0</td>\n",
       "      <td>0.054987</td>\n",
       "    </tr>\n",
       "  </tbody>\n",
       "</table>\n",
       "</div>"
      ],
      "text/plain": [
       "                                              Review  poscnt_BL  negcnt_BL  \\\n",
       "0  1,\"films adapted from comic books have had ple...         16         36   \n",
       "1  2,\"every now and then a movie comes along from...         21         33   \n",
       "2  3,\"you've got mail works alot better than it d...         32         28   \n",
       "3  4,\"  jaws   is a rare film that grabs your att...         20         41   \n",
       "4  5,\"moviemaking is a lot like being the general...         17         24   \n",
       "\n",
       "   netcnt_BL  Score  predictBL  poscnt_LM  negcnt_LM  netcnt_LM  predictLM  \\\n",
       "0        -20      1          0          5         11         -6          0   \n",
       "1        -12      1          0          7         12         -5          0   \n",
       "2          4      1          1         12          7          5          1   \n",
       "3        -21      1          0          5         14         -9          0   \n",
       "4         -7      1          0          1          6         -5          0   \n",
       "\n",
       "   score_TextBlob  \n",
       "0       -0.061036  \n",
       "1        0.088390  \n",
       "2        0.081941  \n",
       "3        0.066679  \n",
       "4        0.054987  "
      ]
     },
     "execution_count": 42,
     "metadata": {},
     "output_type": "execute_result"
    }
   ],
   "source": [
    "df.head()"
   ]
  },
  {
   "cell_type": "code",
   "execution_count": 43,
   "metadata": {},
   "outputs": [],
   "source": [
    "df.loc[df['score_TextBlob'] >= 0, 'predict_textblob'] = 1\n",
    "df.loc[df['score_TextBlob'] < 0, 'predict_textblob'] = 0\n",
    "df['predict_textblob'] = df['predict_textblob'].astype('int')"
   ]
  },
  {
   "cell_type": "code",
   "execution_count": 44,
   "metadata": {},
   "outputs": [
    {
     "name": "stdout",
     "output_type": "stream",
     "text": [
      "Predicted    0    1\n",
      "Actual             \n",
      "0          274  726\n",
      "1           79  921\n"
     ]
    }
   ],
   "source": [
    "confusion_matrix = pd.crosstab(df['Score'], df['predict_textblob'], rownames=['Actual'], colnames=['Predicted'])\n",
    "print (confusion_matrix)"
   ]
  },
  {
   "cell_type": "code",
   "execution_count": 45,
   "metadata": {},
   "outputs": [],
   "source": [
    "Precisiontextblob = precision_score(df['Score'], df['predict_textblob'])\n",
    "Recalltextblob = recall_score(df['Score'], df['predict_textblob'])\n",
    "F1textblob = f1_score(df['Score'], df['predict_textblob'])"
   ]
  },
  {
   "cell_type": "code",
   "execution_count": 46,
   "metadata": {},
   "outputs": [
    {
     "name": "stdout",
     "output_type": "stream",
     "text": [
      "Precision TextBlob =  0.559\n",
      "Recall TextBlob =  0.921\n",
      "F1 TextBlob =  0.696\n"
     ]
    }
   ],
   "source": [
    "print('Precision TextBlob = ', round(Precisiontextblob,3) )\n",
    "print('Recall TextBlob = ', Recalltextblob )\n",
    "print('F1 TextBlob = ', round(F1textblob,3) )"
   ]
  },
  {
   "cell_type": "code",
   "execution_count": 47,
   "metadata": {},
   "outputs": [
    {
     "name": "stdout",
     "output_type": "stream",
     "text": [
      "              precision    recall  f1-score   support\n",
      "\n",
      "           0       0.78      0.27      0.41      1000\n",
      "           1       0.56      0.92      0.70      1000\n",
      "\n",
      "    accuracy                           0.60      2000\n",
      "   macro avg       0.67      0.60      0.55      2000\n",
      "weighted avg       0.67      0.60      0.55      2000\n",
      "\n"
     ]
    }
   ],
   "source": [
    "print(classification_report(df['Score'], df['predict_textblob']))"
   ]
  },
  {
   "cell_type": "markdown",
   "metadata": {},
   "source": [
    "## 4 - Vader"
   ]
  },
  {
   "cell_type": "code",
   "execution_count": 48,
   "metadata": {},
   "outputs": [],
   "source": [
    "from vaderSentiment.vaderSentiment import SentimentIntensityAnalyzer"
   ]
  },
  {
   "cell_type": "code",
   "execution_count": 49,
   "metadata": {},
   "outputs": [],
   "source": [
    "analyzer = SentimentIntensityAnalyzer()\n",
    "scores = [analyzer.polarity_scores(sentence) for sentence in data]"
   ]
  },
  {
   "cell_type": "code",
   "execution_count": 50,
   "metadata": {},
   "outputs": [],
   "source": [
    "neg_s = [i[\"neg\"] for i in scores]\n",
    "neu_s = [i[\"neu\"] for i in scores]\n",
    "pos_s = [i[\"pos\"] for i in scores]\n",
    "compound_s = [i[\"compound\"] for i in scores]"
   ]
  },
  {
   "cell_type": "code",
   "execution_count": 51,
   "metadata": {},
   "outputs": [],
   "source": [
    "df['negscore_Vader'], df['neuscore_Vader'], df['posscore_Vader'], df['compound_Vader'] = neg_s, neu_s, pos_s, compound_s"
   ]
  },
  {
   "cell_type": "code",
   "execution_count": 52,
   "metadata": {},
   "outputs": [
    {
     "data": {
      "text/html": [
       "<div>\n",
       "<style scoped>\n",
       "    .dataframe tbody tr th:only-of-type {\n",
       "        vertical-align: middle;\n",
       "    }\n",
       "\n",
       "    .dataframe tbody tr th {\n",
       "        vertical-align: top;\n",
       "    }\n",
       "\n",
       "    .dataframe thead th {\n",
       "        text-align: right;\n",
       "    }\n",
       "</style>\n",
       "<table border=\"1\" class=\"dataframe\">\n",
       "  <thead>\n",
       "    <tr style=\"text-align: right;\">\n",
       "      <th></th>\n",
       "      <th>Review</th>\n",
       "      <th>negscore_Vader</th>\n",
       "      <th>neuscore_Vader</th>\n",
       "      <th>posscore_Vader</th>\n",
       "      <th>compound_Vader</th>\n",
       "    </tr>\n",
       "  </thead>\n",
       "  <tbody>\n",
       "    <tr>\n",
       "      <th>0</th>\n",
       "      <td>1,\"films adapted from comic books have had ple...</td>\n",
       "      <td>0.138</td>\n",
       "      <td>0.802</td>\n",
       "      <td>0.060</td>\n",
       "      <td>-0.9905</td>\n",
       "    </tr>\n",
       "    <tr>\n",
       "      <th>1</th>\n",
       "      <td>2,\"every now and then a movie comes along from...</td>\n",
       "      <td>0.069</td>\n",
       "      <td>0.833</td>\n",
       "      <td>0.098</td>\n",
       "      <td>0.8319</td>\n",
       "    </tr>\n",
       "    <tr>\n",
       "      <th>2</th>\n",
       "      <td>3,\"you've got mail works alot better than it d...</td>\n",
       "      <td>0.075</td>\n",
       "      <td>0.765</td>\n",
       "      <td>0.160</td>\n",
       "      <td>0.9887</td>\n",
       "    </tr>\n",
       "    <tr>\n",
       "      <th>3</th>\n",
       "      <td>4,\"  jaws   is a rare film that grabs your att...</td>\n",
       "      <td>0.085</td>\n",
       "      <td>0.806</td>\n",
       "      <td>0.109</td>\n",
       "      <td>0.9373</td>\n",
       "    </tr>\n",
       "    <tr>\n",
       "      <th>4</th>\n",
       "      <td>5,\"moviemaking is a lot like being the general...</td>\n",
       "      <td>0.037</td>\n",
       "      <td>0.849</td>\n",
       "      <td>0.114</td>\n",
       "      <td>0.9819</td>\n",
       "    </tr>\n",
       "  </tbody>\n",
       "</table>\n",
       "</div>"
      ],
      "text/plain": [
       "                                              Review  negscore_Vader  \\\n",
       "0  1,\"films adapted from comic books have had ple...           0.138   \n",
       "1  2,\"every now and then a movie comes along from...           0.069   \n",
       "2  3,\"you've got mail works alot better than it d...           0.075   \n",
       "3  4,\"  jaws   is a rare film that grabs your att...           0.085   \n",
       "4  5,\"moviemaking is a lot like being the general...           0.037   \n",
       "\n",
       "   neuscore_Vader  posscore_Vader  compound_Vader  \n",
       "0           0.802           0.060         -0.9905  \n",
       "1           0.833           0.098          0.8319  \n",
       "2           0.765           0.160          0.9887  \n",
       "3           0.806           0.109          0.9373  \n",
       "4           0.849           0.114          0.9819  "
      ]
     },
     "execution_count": 52,
     "metadata": {},
     "output_type": "execute_result"
    }
   ],
   "source": [
    "df[['Review','negscore_Vader','neuscore_Vader','posscore_Vader','compound_Vader']].head(5)"
   ]
  },
  {
   "cell_type": "code",
   "execution_count": 53,
   "metadata": {},
   "outputs": [],
   "source": [
    "dfnew = pd.read_csv(\"MovieReview-Sample.csv\",header = None)"
   ]
  },
  {
   "cell_type": "code",
   "execution_count": 54,
   "metadata": {},
   "outputs": [],
   "source": [
    "df['Score'] = dfnew[2].astype(int)"
   ]
  },
  {
   "cell_type": "code",
   "execution_count": 55,
   "metadata": {},
   "outputs": [
    {
     "data": {
      "text/html": [
       "<div>\n",
       "<style scoped>\n",
       "    .dataframe tbody tr th:only-of-type {\n",
       "        vertical-align: middle;\n",
       "    }\n",
       "\n",
       "    .dataframe tbody tr th {\n",
       "        vertical-align: top;\n",
       "    }\n",
       "\n",
       "    .dataframe thead th {\n",
       "        text-align: right;\n",
       "    }\n",
       "</style>\n",
       "<table border=\"1\" class=\"dataframe\">\n",
       "  <thead>\n",
       "    <tr style=\"text-align: right;\">\n",
       "      <th></th>\n",
       "      <th>Review</th>\n",
       "      <th>poscnt_BL</th>\n",
       "      <th>negcnt_BL</th>\n",
       "      <th>netcnt_BL</th>\n",
       "      <th>Score</th>\n",
       "      <th>predictBL</th>\n",
       "      <th>poscnt_LM</th>\n",
       "      <th>negcnt_LM</th>\n",
       "      <th>netcnt_LM</th>\n",
       "      <th>predictLM</th>\n",
       "      <th>score_TextBlob</th>\n",
       "      <th>predict_textblob</th>\n",
       "      <th>negscore_Vader</th>\n",
       "      <th>neuscore_Vader</th>\n",
       "      <th>posscore_Vader</th>\n",
       "      <th>compound_Vader</th>\n",
       "    </tr>\n",
       "  </thead>\n",
       "  <tbody>\n",
       "    <tr>\n",
       "      <th>0</th>\n",
       "      <td>1,\"films adapted from comic books have had ple...</td>\n",
       "      <td>16</td>\n",
       "      <td>36</td>\n",
       "      <td>-20</td>\n",
       "      <td>1</td>\n",
       "      <td>0</td>\n",
       "      <td>5</td>\n",
       "      <td>11</td>\n",
       "      <td>-6</td>\n",
       "      <td>0</td>\n",
       "      <td>-0.061036</td>\n",
       "      <td>0</td>\n",
       "      <td>0.138</td>\n",
       "      <td>0.802</td>\n",
       "      <td>0.060</td>\n",
       "      <td>-0.9905</td>\n",
       "    </tr>\n",
       "    <tr>\n",
       "      <th>1</th>\n",
       "      <td>2,\"every now and then a movie comes along from...</td>\n",
       "      <td>21</td>\n",
       "      <td>33</td>\n",
       "      <td>-12</td>\n",
       "      <td>1</td>\n",
       "      <td>0</td>\n",
       "      <td>7</td>\n",
       "      <td>12</td>\n",
       "      <td>-5</td>\n",
       "      <td>0</td>\n",
       "      <td>0.088390</td>\n",
       "      <td>1</td>\n",
       "      <td>0.069</td>\n",
       "      <td>0.833</td>\n",
       "      <td>0.098</td>\n",
       "      <td>0.8319</td>\n",
       "    </tr>\n",
       "    <tr>\n",
       "      <th>2</th>\n",
       "      <td>3,\"you've got mail works alot better than it d...</td>\n",
       "      <td>32</td>\n",
       "      <td>28</td>\n",
       "      <td>4</td>\n",
       "      <td>1</td>\n",
       "      <td>1</td>\n",
       "      <td>12</td>\n",
       "      <td>7</td>\n",
       "      <td>5</td>\n",
       "      <td>1</td>\n",
       "      <td>0.081941</td>\n",
       "      <td>1</td>\n",
       "      <td>0.075</td>\n",
       "      <td>0.765</td>\n",
       "      <td>0.160</td>\n",
       "      <td>0.9887</td>\n",
       "    </tr>\n",
       "    <tr>\n",
       "      <th>3</th>\n",
       "      <td>4,\"  jaws   is a rare film that grabs your att...</td>\n",
       "      <td>20</td>\n",
       "      <td>41</td>\n",
       "      <td>-21</td>\n",
       "      <td>1</td>\n",
       "      <td>0</td>\n",
       "      <td>5</td>\n",
       "      <td>14</td>\n",
       "      <td>-9</td>\n",
       "      <td>0</td>\n",
       "      <td>0.066679</td>\n",
       "      <td>1</td>\n",
       "      <td>0.085</td>\n",
       "      <td>0.806</td>\n",
       "      <td>0.109</td>\n",
       "      <td>0.9373</td>\n",
       "    </tr>\n",
       "    <tr>\n",
       "      <th>4</th>\n",
       "      <td>5,\"moviemaking is a lot like being the general...</td>\n",
       "      <td>17</td>\n",
       "      <td>24</td>\n",
       "      <td>-7</td>\n",
       "      <td>1</td>\n",
       "      <td>0</td>\n",
       "      <td>1</td>\n",
       "      <td>6</td>\n",
       "      <td>-5</td>\n",
       "      <td>0</td>\n",
       "      <td>0.054987</td>\n",
       "      <td>1</td>\n",
       "      <td>0.037</td>\n",
       "      <td>0.849</td>\n",
       "      <td>0.114</td>\n",
       "      <td>0.9819</td>\n",
       "    </tr>\n",
       "  </tbody>\n",
       "</table>\n",
       "</div>"
      ],
      "text/plain": [
       "                                              Review  poscnt_BL  negcnt_BL  \\\n",
       "0  1,\"films adapted from comic books have had ple...         16         36   \n",
       "1  2,\"every now and then a movie comes along from...         21         33   \n",
       "2  3,\"you've got mail works alot better than it d...         32         28   \n",
       "3  4,\"  jaws   is a rare film that grabs your att...         20         41   \n",
       "4  5,\"moviemaking is a lot like being the general...         17         24   \n",
       "\n",
       "   netcnt_BL  Score  predictBL  poscnt_LM  negcnt_LM  netcnt_LM  predictLM  \\\n",
       "0        -20      1          0          5         11         -6          0   \n",
       "1        -12      1          0          7         12         -5          0   \n",
       "2          4      1          1         12          7          5          1   \n",
       "3        -21      1          0          5         14         -9          0   \n",
       "4         -7      1          0          1          6         -5          0   \n",
       "\n",
       "   score_TextBlob  predict_textblob  negscore_Vader  neuscore_Vader  \\\n",
       "0       -0.061036                 0           0.138           0.802   \n",
       "1        0.088390                 1           0.069           0.833   \n",
       "2        0.081941                 1           0.075           0.765   \n",
       "3        0.066679                 1           0.085           0.806   \n",
       "4        0.054987                 1           0.037           0.849   \n",
       "\n",
       "   posscore_Vader  compound_Vader  \n",
       "0           0.060         -0.9905  \n",
       "1           0.098          0.8319  \n",
       "2           0.160          0.9887  \n",
       "3           0.109          0.9373  \n",
       "4           0.114          0.9819  "
      ]
     },
     "execution_count": 55,
     "metadata": {},
     "output_type": "execute_result"
    }
   ],
   "source": [
    "df.head()"
   ]
  },
  {
   "cell_type": "code",
   "execution_count": 56,
   "metadata": {},
   "outputs": [],
   "source": [
    "df.loc[df['compound_Vader'] >= 0, 'predict_Vader'] = 1\n",
    "df.loc[df['compound_Vader'] < 0, 'predict_Vader'] = 0\n",
    "df['predict_Vader'] = df['predict_Vader'].astype('int')"
   ]
  },
  {
   "cell_type": "code",
   "execution_count": 57,
   "metadata": {},
   "outputs": [
    {
     "name": "stdout",
     "output_type": "stream",
     "text": [
      "Predicted    0    1\n",
      "Actual             \n",
      "0          490  510\n",
      "1          267  733\n"
     ]
    }
   ],
   "source": [
    "confusion_matrix = pd.crosstab(df['Score'], df['predict_Vader'], rownames=['Actual'], colnames=['Predicted'])\n",
    "print (confusion_matrix)"
   ]
  },
  {
   "cell_type": "code",
   "execution_count": 58,
   "metadata": {},
   "outputs": [],
   "source": [
    "Precisionvader = precision_score(df['Score'], df['predict_Vader'])\n",
    "Recallvader = recall_score(df['Score'], df['predict_Vader'])\n",
    "F1vader = f1_score(df['Score'], df['predict_Vader'])"
   ]
  },
  {
   "cell_type": "code",
   "execution_count": 59,
   "metadata": {},
   "outputs": [
    {
     "name": "stdout",
     "output_type": "stream",
     "text": [
      "Precision Vader =  0.59\n",
      "Recall Vader =  0.733\n",
      "F1 Vader =  0.654\n"
     ]
    }
   ],
   "source": [
    "print('Precision Vader = ', round(Precisionvader,3) )\n",
    "print('Recall Vader = ', Recallvader )\n",
    "print('F1 Vader = ', round(F1vader,3) )"
   ]
  },
  {
   "cell_type": "code",
   "execution_count": 60,
   "metadata": {},
   "outputs": [
    {
     "name": "stdout",
     "output_type": "stream",
     "text": [
      "              precision    recall  f1-score   support\n",
      "\n",
      "           0       0.65      0.49      0.56      1000\n",
      "           1       0.59      0.73      0.65      1000\n",
      "\n",
      "    accuracy                           0.61      2000\n",
      "   macro avg       0.62      0.61      0.61      2000\n",
      "weighted avg       0.62      0.61      0.61      2000\n",
      "\n"
     ]
    }
   ],
   "source": [
    "print(classification_report(df['Score'], df['predict_Vader']))"
   ]
  },
  {
   "cell_type": "markdown",
   "metadata": {},
   "source": [
    "## Q2 - Ensemble"
   ]
  },
  {
   "cell_type": "code",
   "execution_count": 61,
   "metadata": {},
   "outputs": [
    {
     "data": {
      "text/html": [
       "<div>\n",
       "<style scoped>\n",
       "    .dataframe tbody tr th:only-of-type {\n",
       "        vertical-align: middle;\n",
       "    }\n",
       "\n",
       "    .dataframe tbody tr th {\n",
       "        vertical-align: top;\n",
       "    }\n",
       "\n",
       "    .dataframe thead th {\n",
       "        text-align: right;\n",
       "    }\n",
       "</style>\n",
       "<table border=\"1\" class=\"dataframe\">\n",
       "  <thead>\n",
       "    <tr style=\"text-align: right;\">\n",
       "      <th></th>\n",
       "      <th>Review</th>\n",
       "      <th>poscnt_BL</th>\n",
       "      <th>negcnt_BL</th>\n",
       "      <th>netcnt_BL</th>\n",
       "      <th>Score</th>\n",
       "      <th>predictBL</th>\n",
       "      <th>poscnt_LM</th>\n",
       "      <th>negcnt_LM</th>\n",
       "      <th>netcnt_LM</th>\n",
       "      <th>predictLM</th>\n",
       "      <th>score_TextBlob</th>\n",
       "      <th>predict_textblob</th>\n",
       "      <th>negscore_Vader</th>\n",
       "      <th>neuscore_Vader</th>\n",
       "      <th>posscore_Vader</th>\n",
       "      <th>compound_Vader</th>\n",
       "      <th>predict_Vader</th>\n",
       "    </tr>\n",
       "  </thead>\n",
       "  <tbody>\n",
       "    <tr>\n",
       "      <th>0</th>\n",
       "      <td>1,\"films adapted from comic books have had ple...</td>\n",
       "      <td>16</td>\n",
       "      <td>36</td>\n",
       "      <td>-20</td>\n",
       "      <td>1</td>\n",
       "      <td>0</td>\n",
       "      <td>5</td>\n",
       "      <td>11</td>\n",
       "      <td>-6</td>\n",
       "      <td>0</td>\n",
       "      <td>-0.061036</td>\n",
       "      <td>0</td>\n",
       "      <td>0.138</td>\n",
       "      <td>0.802</td>\n",
       "      <td>0.060</td>\n",
       "      <td>-0.9905</td>\n",
       "      <td>0</td>\n",
       "    </tr>\n",
       "    <tr>\n",
       "      <th>1</th>\n",
       "      <td>2,\"every now and then a movie comes along from...</td>\n",
       "      <td>21</td>\n",
       "      <td>33</td>\n",
       "      <td>-12</td>\n",
       "      <td>1</td>\n",
       "      <td>0</td>\n",
       "      <td>7</td>\n",
       "      <td>12</td>\n",
       "      <td>-5</td>\n",
       "      <td>0</td>\n",
       "      <td>0.088390</td>\n",
       "      <td>1</td>\n",
       "      <td>0.069</td>\n",
       "      <td>0.833</td>\n",
       "      <td>0.098</td>\n",
       "      <td>0.8319</td>\n",
       "      <td>1</td>\n",
       "    </tr>\n",
       "    <tr>\n",
       "      <th>2</th>\n",
       "      <td>3,\"you've got mail works alot better than it d...</td>\n",
       "      <td>32</td>\n",
       "      <td>28</td>\n",
       "      <td>4</td>\n",
       "      <td>1</td>\n",
       "      <td>1</td>\n",
       "      <td>12</td>\n",
       "      <td>7</td>\n",
       "      <td>5</td>\n",
       "      <td>1</td>\n",
       "      <td>0.081941</td>\n",
       "      <td>1</td>\n",
       "      <td>0.075</td>\n",
       "      <td>0.765</td>\n",
       "      <td>0.160</td>\n",
       "      <td>0.9887</td>\n",
       "      <td>1</td>\n",
       "    </tr>\n",
       "    <tr>\n",
       "      <th>3</th>\n",
       "      <td>4,\"  jaws   is a rare film that grabs your att...</td>\n",
       "      <td>20</td>\n",
       "      <td>41</td>\n",
       "      <td>-21</td>\n",
       "      <td>1</td>\n",
       "      <td>0</td>\n",
       "      <td>5</td>\n",
       "      <td>14</td>\n",
       "      <td>-9</td>\n",
       "      <td>0</td>\n",
       "      <td>0.066679</td>\n",
       "      <td>1</td>\n",
       "      <td>0.085</td>\n",
       "      <td>0.806</td>\n",
       "      <td>0.109</td>\n",
       "      <td>0.9373</td>\n",
       "      <td>1</td>\n",
       "    </tr>\n",
       "    <tr>\n",
       "      <th>4</th>\n",
       "      <td>5,\"moviemaking is a lot like being the general...</td>\n",
       "      <td>17</td>\n",
       "      <td>24</td>\n",
       "      <td>-7</td>\n",
       "      <td>1</td>\n",
       "      <td>0</td>\n",
       "      <td>1</td>\n",
       "      <td>6</td>\n",
       "      <td>-5</td>\n",
       "      <td>0</td>\n",
       "      <td>0.054987</td>\n",
       "      <td>1</td>\n",
       "      <td>0.037</td>\n",
       "      <td>0.849</td>\n",
       "      <td>0.114</td>\n",
       "      <td>0.9819</td>\n",
       "      <td>1</td>\n",
       "    </tr>\n",
       "  </tbody>\n",
       "</table>\n",
       "</div>"
      ],
      "text/plain": [
       "                                              Review  poscnt_BL  negcnt_BL  \\\n",
       "0  1,\"films adapted from comic books have had ple...         16         36   \n",
       "1  2,\"every now and then a movie comes along from...         21         33   \n",
       "2  3,\"you've got mail works alot better than it d...         32         28   \n",
       "3  4,\"  jaws   is a rare film that grabs your att...         20         41   \n",
       "4  5,\"moviemaking is a lot like being the general...         17         24   \n",
       "\n",
       "   netcnt_BL  Score  predictBL  poscnt_LM  negcnt_LM  netcnt_LM  predictLM  \\\n",
       "0        -20      1          0          5         11         -6          0   \n",
       "1        -12      1          0          7         12         -5          0   \n",
       "2          4      1          1         12          7          5          1   \n",
       "3        -21      1          0          5         14         -9          0   \n",
       "4         -7      1          0          1          6         -5          0   \n",
       "\n",
       "   score_TextBlob  predict_textblob  negscore_Vader  neuscore_Vader  \\\n",
       "0       -0.061036                 0           0.138           0.802   \n",
       "1        0.088390                 1           0.069           0.833   \n",
       "2        0.081941                 1           0.075           0.765   \n",
       "3        0.066679                 1           0.085           0.806   \n",
       "4        0.054987                 1           0.037           0.849   \n",
       "\n",
       "   posscore_Vader  compound_Vader  predict_Vader  \n",
       "0           0.060         -0.9905              0  \n",
       "1           0.098          0.8319              1  \n",
       "2           0.160          0.9887              1  \n",
       "3           0.109          0.9373              1  \n",
       "4           0.114          0.9819              1  "
      ]
     },
     "execution_count": 61,
     "metadata": {},
     "output_type": "execute_result"
    }
   ],
   "source": [
    "df.head()"
   ]
  },
  {
   "cell_type": "code",
   "execution_count": 62,
   "metadata": {},
   "outputs": [],
   "source": [
    "dfensemble = df.drop(['Score','predictBL','poscnt_BL','negcnt_BL','netcnt_BL','poscnt_LM','negcnt_LM','netcnt_LM','score_TextBlob','negscore_Vader','neuscore_Vader','posscore_Vader','compound_Vader'], axis=1)"
   ]
  },
  {
   "cell_type": "code",
   "execution_count": 63,
   "metadata": {},
   "outputs": [
    {
     "data": {
      "text/html": [
       "<div>\n",
       "<style scoped>\n",
       "    .dataframe tbody tr th:only-of-type {\n",
       "        vertical-align: middle;\n",
       "    }\n",
       "\n",
       "    .dataframe tbody tr th {\n",
       "        vertical-align: top;\n",
       "    }\n",
       "\n",
       "    .dataframe thead th {\n",
       "        text-align: right;\n",
       "    }\n",
       "</style>\n",
       "<table border=\"1\" class=\"dataframe\">\n",
       "  <thead>\n",
       "    <tr style=\"text-align: right;\">\n",
       "      <th></th>\n",
       "      <th>Review</th>\n",
       "      <th>predictLM</th>\n",
       "      <th>predict_textblob</th>\n",
       "      <th>predict_Vader</th>\n",
       "    </tr>\n",
       "  </thead>\n",
       "  <tbody>\n",
       "    <tr>\n",
       "      <th>0</th>\n",
       "      <td>1,\"films adapted from comic books have had ple...</td>\n",
       "      <td>0</td>\n",
       "      <td>0</td>\n",
       "      <td>0</td>\n",
       "    </tr>\n",
       "    <tr>\n",
       "      <th>1</th>\n",
       "      <td>2,\"every now and then a movie comes along from...</td>\n",
       "      <td>0</td>\n",
       "      <td>1</td>\n",
       "      <td>1</td>\n",
       "    </tr>\n",
       "    <tr>\n",
       "      <th>2</th>\n",
       "      <td>3,\"you've got mail works alot better than it d...</td>\n",
       "      <td>1</td>\n",
       "      <td>1</td>\n",
       "      <td>1</td>\n",
       "    </tr>\n",
       "    <tr>\n",
       "      <th>3</th>\n",
       "      <td>4,\"  jaws   is a rare film that grabs your att...</td>\n",
       "      <td>0</td>\n",
       "      <td>1</td>\n",
       "      <td>1</td>\n",
       "    </tr>\n",
       "    <tr>\n",
       "      <th>4</th>\n",
       "      <td>5,\"moviemaking is a lot like being the general...</td>\n",
       "      <td>0</td>\n",
       "      <td>1</td>\n",
       "      <td>1</td>\n",
       "    </tr>\n",
       "  </tbody>\n",
       "</table>\n",
       "</div>"
      ],
      "text/plain": [
       "                                              Review  predictLM  \\\n",
       "0  1,\"films adapted from comic books have had ple...          0   \n",
       "1  2,\"every now and then a movie comes along from...          0   \n",
       "2  3,\"you've got mail works alot better than it d...          1   \n",
       "3  4,\"  jaws   is a rare film that grabs your att...          0   \n",
       "4  5,\"moviemaking is a lot like being the general...          0   \n",
       "\n",
       "   predict_textblob  predict_Vader  \n",
       "0                 0              0  \n",
       "1                 1              1  \n",
       "2                 1              1  \n",
       "3                 1              1  \n",
       "4                 1              1  "
      ]
     },
     "execution_count": 63,
     "metadata": {},
     "output_type": "execute_result"
    }
   ],
   "source": [
    "dfensemble.head()"
   ]
  },
  {
   "cell_type": "code",
   "execution_count": 64,
   "metadata": {},
   "outputs": [
    {
     "name": "stdout",
     "output_type": "stream",
     "text": [
      "                                                 Review  predictLM  \\\n",
      "0     1,\"films adapted from comic books have had ple...          0   \n",
      "1     2,\"every now and then a movie comes along from...          0   \n",
      "2     3,\"you've got mail works alot better than it d...          1   \n",
      "3     4,\"  jaws   is a rare film that grabs your att...          0   \n",
      "4     5,\"moviemaking is a lot like being the general...          0   \n",
      "...                                                 ...        ...   \n",
      "1995  1996,\"if anything ,   stigmata   should be tak...          0   \n",
      "1996  1997,\"john boorman's   zardoz   is a goofy cin...          0   \n",
      "1997  1998,\"the kids in the hall are an acquired tas...          0   \n",
      "1998  1999,\"there was a time when john carpenter was...          0   \n",
      "1999  2000,\"two party guys bob their heads to haddaw...          0   \n",
      "\n",
      "      predict_textblob  predict_Vader  majority  \n",
      "0                    0              0         0  \n",
      "1                    1              1         1  \n",
      "2                    1              1         1  \n",
      "3                    1              1         1  \n",
      "4                    1              1         1  \n",
      "...                ...            ...       ...  \n",
      "1995                 0              0         0  \n",
      "1996                 1              1         1  \n",
      "1997                 1              1         1  \n",
      "1998                 1              0         0  \n",
      "1999                 1              1         1  \n",
      "\n",
      "[2000 rows x 5 columns]\n"
     ]
    }
   ],
   "source": [
    "dfensemble['majority'] = dfensemble.mode(axis=1)[0]\n",
    "print(dfensemble)"
   ]
  },
  {
   "cell_type": "code",
   "execution_count": 65,
   "metadata": {},
   "outputs": [],
   "source": [
    "dfnew = pd.read_csv(\"MovieReview-Sample.csv\",header = None)"
   ]
  },
  {
   "cell_type": "code",
   "execution_count": 66,
   "metadata": {},
   "outputs": [],
   "source": [
    "dfensemble['Score'] = dfnew[2].astype(int)"
   ]
  },
  {
   "cell_type": "code",
   "execution_count": 67,
   "metadata": {},
   "outputs": [
    {
     "data": {
      "text/html": [
       "<div>\n",
       "<style scoped>\n",
       "    .dataframe tbody tr th:only-of-type {\n",
       "        vertical-align: middle;\n",
       "    }\n",
       "\n",
       "    .dataframe tbody tr th {\n",
       "        vertical-align: top;\n",
       "    }\n",
       "\n",
       "    .dataframe thead th {\n",
       "        text-align: right;\n",
       "    }\n",
       "</style>\n",
       "<table border=\"1\" class=\"dataframe\">\n",
       "  <thead>\n",
       "    <tr style=\"text-align: right;\">\n",
       "      <th></th>\n",
       "      <th>Review</th>\n",
       "      <th>predictLM</th>\n",
       "      <th>predict_textblob</th>\n",
       "      <th>predict_Vader</th>\n",
       "      <th>majority</th>\n",
       "      <th>Score</th>\n",
       "    </tr>\n",
       "  </thead>\n",
       "  <tbody>\n",
       "    <tr>\n",
       "      <th>0</th>\n",
       "      <td>1,\"films adapted from comic books have had ple...</td>\n",
       "      <td>0</td>\n",
       "      <td>0</td>\n",
       "      <td>0</td>\n",
       "      <td>0</td>\n",
       "      <td>1</td>\n",
       "    </tr>\n",
       "    <tr>\n",
       "      <th>1</th>\n",
       "      <td>2,\"every now and then a movie comes along from...</td>\n",
       "      <td>0</td>\n",
       "      <td>1</td>\n",
       "      <td>1</td>\n",
       "      <td>1</td>\n",
       "      <td>1</td>\n",
       "    </tr>\n",
       "    <tr>\n",
       "      <th>2</th>\n",
       "      <td>3,\"you've got mail works alot better than it d...</td>\n",
       "      <td>1</td>\n",
       "      <td>1</td>\n",
       "      <td>1</td>\n",
       "      <td>1</td>\n",
       "      <td>1</td>\n",
       "    </tr>\n",
       "    <tr>\n",
       "      <th>3</th>\n",
       "      <td>4,\"  jaws   is a rare film that grabs your att...</td>\n",
       "      <td>0</td>\n",
       "      <td>1</td>\n",
       "      <td>1</td>\n",
       "      <td>1</td>\n",
       "      <td>1</td>\n",
       "    </tr>\n",
       "    <tr>\n",
       "      <th>4</th>\n",
       "      <td>5,\"moviemaking is a lot like being the general...</td>\n",
       "      <td>0</td>\n",
       "      <td>1</td>\n",
       "      <td>1</td>\n",
       "      <td>1</td>\n",
       "      <td>1</td>\n",
       "    </tr>\n",
       "  </tbody>\n",
       "</table>\n",
       "</div>"
      ],
      "text/plain": [
       "                                              Review  predictLM  \\\n",
       "0  1,\"films adapted from comic books have had ple...          0   \n",
       "1  2,\"every now and then a movie comes along from...          0   \n",
       "2  3,\"you've got mail works alot better than it d...          1   \n",
       "3  4,\"  jaws   is a rare film that grabs your att...          0   \n",
       "4  5,\"moviemaking is a lot like being the general...          0   \n",
       "\n",
       "   predict_textblob  predict_Vader  majority  Score  \n",
       "0                 0              0         0      1  \n",
       "1                 1              1         1      1  \n",
       "2                 1              1         1      1  \n",
       "3                 1              1         1      1  \n",
       "4                 1              1         1      1  "
      ]
     },
     "execution_count": 67,
     "metadata": {},
     "output_type": "execute_result"
    }
   ],
   "source": [
    "dfensemble.head()"
   ]
  },
  {
   "cell_type": "code",
   "execution_count": 68,
   "metadata": {},
   "outputs": [
    {
     "name": "stdout",
     "output_type": "stream",
     "text": [
      "Predicted    0    1\n",
      "Actual             \n",
      "0          532  468\n",
      "1          268  732\n"
     ]
    }
   ],
   "source": [
    "confusion_matrix_ensemble = pd.crosstab(dfensemble['Score'], dfensemble['majority'], rownames=['Actual'], colnames=['Predicted'])\n",
    "print (confusion_matrix_ensemble)"
   ]
  },
  {
   "cell_type": "code",
   "execution_count": 69,
   "metadata": {},
   "outputs": [],
   "source": [
    "Precision_e = precision_score(dfensemble['Score'], dfensemble['majority'])\n",
    "Recall_e = recall_score(dfensemble['Score'], dfensemble['majority'])\n",
    "F1_e = f1_score(dfensemble['Score'], dfensemble['majority'])"
   ]
  },
  {
   "cell_type": "code",
   "execution_count": 70,
   "metadata": {},
   "outputs": [
    {
     "name": "stdout",
     "output_type": "stream",
     "text": [
      "Precision Majority =  0.61\n",
      "Recall Majority =  0.732\n",
      "F1 Majority =  0.665\n"
     ]
    }
   ],
   "source": [
    "print('Precision Majority = ', round(Precision_e,3) )\n",
    "print('Recall Majority = ', Recall_e )\n",
    "print('F1 Majority = ', round(F1_e,3) )"
   ]
  },
  {
   "cell_type": "code",
   "execution_count": 72,
   "metadata": {},
   "outputs": [
    {
     "name": "stdout",
     "output_type": "stream",
     "text": [
      "              precision    recall  f1-score   support\n",
      "\n",
      "           0       0.67      0.53      0.59      1000\n",
      "           1       0.61      0.73      0.67      1000\n",
      "\n",
      "    accuracy                           0.63      2000\n",
      "   macro avg       0.64      0.63      0.63      2000\n",
      "weighted avg       0.64      0.63      0.63      2000\n",
      "\n"
     ]
    }
   ],
   "source": [
    "print(classification_report(dfensemble['Score'], dfensemble['majority']))"
   ]
  },
  {
   "cell_type": "code",
   "execution_count": null,
   "metadata": {},
   "outputs": [],
   "source": []
  }
 ],
 "metadata": {
  "kernelspec": {
   "display_name": "Python 3",
   "language": "python",
   "name": "python3"
  },
  "language_info": {
   "codemirror_mode": {
    "name": "ipython",
    "version": 3
   },
   "file_extension": ".py",
   "mimetype": "text/x-python",
   "name": "python",
   "nbconvert_exporter": "python",
   "pygments_lexer": "ipython3",
   "version": "3.8.5"
  }
 },
 "nbformat": 4,
 "nbformat_minor": 4
}
